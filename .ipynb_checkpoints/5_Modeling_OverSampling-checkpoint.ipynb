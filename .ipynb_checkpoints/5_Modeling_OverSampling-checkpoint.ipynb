{
 "cells": [
  {
   "cell_type": "markdown",
   "metadata": {},
   "source": [
    "## Re-sampling the dataset"
   ]
  },
  {
   "cell_type": "markdown",
   "metadata": {},
   "source": [
    "Dealing with imbalanced datasets includes various strategies such as Random under-sampling (randomly eliminate instances from the majority class of a dataset and assign it to the minority class).\n",
    "\n",
    "##### Resources:\n",
    "\n",
    "https://en.wikipedia.org/wiki/Oversampling_and_undersampling_in_data_analysis\n",
    "\n",
    "https://www.datacamp.com/community/tutorials/diving-deep-imbalanced-data\n",
    "\n",
    "https://www.kaggle.com/rafjaa/resampling-strategies-for-imbalanced-datasets"
   ]
  },
  {
   "cell_type": "code",
   "execution_count": 1,
   "metadata": {},
   "outputs": [],
   "source": [
    "# Import libraries necessary for this part of the project\n",
    "\n",
    "import pandas as pd\n",
    "import numpy as np\n",
    "import matplotlib.pyplot as plt\n",
    "\n",
    "# Pretty display for notebooks\n",
    "%matplotlib inline"
   ]
  },
  {
   "cell_type": "code",
   "execution_count": 2,
   "metadata": {},
   "outputs": [],
   "source": [
    "# Load the Santander Customer Satisfacations data from a CSV file\n",
    "\n",
    "data = pd.read_csv('Data/processed_dataset.csv')"
   ]
  },
  {
   "cell_type": "code",
   "execution_count": 3,
   "metadata": {},
   "outputs": [
    {
     "name": "stdout",
     "output_type": "stream",
     "text": [
      "class_0 : 73012\n",
      "class_1 : 3008\n"
     ]
    }
   ],
   "source": [
    "# Class count\n",
    "count_class_0, count_class_1 = data.TARGET.value_counts()\n",
    "print ('class_0 : {}'.format(count_class_0))\n",
    "print ('class_1 : {}'.format(count_class_1))"
   ]
  },
  {
   "cell_type": "code",
   "execution_count": 15,
   "metadata": {},
   "outputs": [
    {
     "data": {
      "image/png": "[encoded data removed]",
      "text/plain": [
       "<Figure size 432x288 with 1 Axes>"
      ]
     },
     "metadata": {
      "needs_background": "light"
     },
     "output_type": "display_data"
    }
   ],
   "source": [
    "# Plot Satisfaction Status\n",
    "\n",
    "data.TARGET.value_counts().plot(kind='bar', title='Count (target)',rot=0)\n",
    "plt.title('Customers Satisfaction Status - Before OverSampling')\n",
    "plt.xlabel('Satisfaction Status')\n",
    "plt.ylabel('Number of Records')\n",
    "plt.show();"
   ]
  },
  {
   "cell_type": "markdown",
   "metadata": {},
   "source": [
    "#### Random under-sampling"
   ]
  },
  {
   "cell_type": "code",
   "execution_count": 6,
   "metadata": {},
   "outputs": [
    {
     "name": "stdout",
     "output_type": "stream",
     "text": [
      "Random under-sampling:\n",
      "1    73012\n",
      "0    73012\n",
      "Name: TARGET, dtype: int64\n"
     ]
    }
   ],
   "source": [
    "# Divide by class\n",
    "class_0 = data[data['TARGET'] == 0]\n",
    "class_1 = data[data['TARGET'] == 1]\n",
    "\n",
    "class_1_over = class_1.sample(count_class_0,replace=True)\n",
    "test_over = pd.concat([class_1_over, class_0], axis=0)\n",
    "\n",
    "print('Random under-sampling:')\n",
    "print(test_over.TARGET.value_counts())"
   ]
  },
  {
   "cell_type": "code",
   "execution_count": 16,
   "metadata": {},
   "outputs": [
    {
     "data": {
      "image/png": "[encoded data removed]",
      "text/plain": [
       "<Figure size 432x288 with 1 Axes>"
      ]
     },
     "metadata": {
      "needs_background": "light"
     },
     "output_type": "display_data"
    }
   ],
   "source": [
    "# Plot Satisfaction Status\n",
    "\n",
    "test_over.TARGET.value_counts().plot(kind='bar', title='Count (target)',rot=0)\n",
    "plt.title('Customers Satisfaction Status - After OverSampling')\n",
    "plt.xlabel('Satisfaction Status')\n",
    "plt.ylabel('Number of Records')\n",
    "plt.show();"
   ]
  },
  {
   "cell_type": "markdown",
   "metadata": {},
   "source": [
    "#### Split Data"
   ]
  },
  {
   "cell_type": "code",
   "execution_count": 8,
   "metadata": {},
   "outputs": [],
   "source": [
    "# Import train_test_split\n",
    "from sklearn.model_selection import train_test_split\n",
    "from imblearn.over_sampling import SMOTE\n",
    "\n",
    "# split data to features and Target\n",
    "features = test_under[['Dimension 1','Dimension 2','Dimension 3', 'Dimension 4','Dimension 5',\\\n",
    "            'Dimension 6','Dimension 7', 'Dimension 8','Dimension 9', 'Dimension 10',\\\n",
    "            'Dimension 11','Dimension 12']]\n",
    "\n",
    "satisfaction_status = test_over['TARGET']"
   ]
  },
  {
   "cell_type": "code",
   "execution_count": 9,
   "metadata": {},
   "outputs": [],
   "source": [
    "#Split the data into train and test sets\n",
    "training_features, test_features, training_target, test_target, = \\\n",
    "train_test_split(features,satisfaction_status,test_size = .30,random_state=12)\n"
   ]
  },
  {
   "cell_type": "code",
   "execution_count": 10,
   "metadata": {},
   "outputs": [
    {
     "data": {
      "text/plain": [
       "1    51186\n",
       "0    51030\n",
       "Name: TARGET, dtype: int64"
      ]
     },
     "execution_count": 10,
     "metadata": {},
     "output_type": "execute_result"
    }
   ],
   "source": [
    "training_target.value_counts()"
   ]
  },
  {
   "cell_type": "code",
   "execution_count": 11,
   "metadata": {},
   "outputs": [
    {
     "data": {
      "text/plain": [
       "0    21982\n",
       "1    21826\n",
       "Name: TARGET, dtype: int64"
      ]
     },
     "execution_count": 11,
     "metadata": {},
     "output_type": "execute_result"
    }
   ],
   "source": [
    "test_target.value_counts()"
   ]
  },
  {
   "cell_type": "code",
   "execution_count": 12,
   "metadata": {},
   "outputs": [],
   "source": [
    "# Method to plot the ROC curve\n",
    "def ROC_Score (y_test , predictions_test):\n",
    "    from sklearn.metrics import roc_curve\n",
    "    \n",
    "    print('ROC Curve')\n",
    "    # calculate roc curve\n",
    "    fpr, tpr, thresholds = roc_curve(y_test, predictions_test)\n",
    "\n",
    "    # plot no skill\n",
    "    plt.plot([0, 1], [0, 1], linestyle='--')\n",
    "\n",
    "    # plot the roc curve for the model\n",
    "    plt.plot(fpr, tpr, marker='.')\n",
    "    \n",
    "    # show the plot\n",
    "    plt.show()"
   ]
  },
  {
   "cell_type": "code",
   "execution_count": 13,
   "metadata": {},
   "outputs": [],
   "source": [
    "from sklearn.metrics import recall_score\n",
    "from sklearn.metrics import roc_auc_score\n",
    "from sklearn.metrics import confusion_matrix\n",
    "from sklearn.metrics import accuracy_score\n",
    "from sklearn.metrics import fbeta_score\n",
    "from sklearn.metrics import classification_report\n",
    "\n",
    "# Method to train & predict & evaluate the performance\n",
    "def predictions (learner,training_features, test_features, training_target, test_target):\n",
    "    clf_rf = learner.fit(training_features, training_target)\n",
    "    predictions = clf_rf.predict(test_features)\n",
    "    \n",
    "    print(\"{} has trained . . . .\".format(learner.__class__.__name__))\n",
    "        #confusion matrix    \n",
    "    confusion_df = pd.DataFrame(confusion_matrix(test_target, predictions),\\\n",
    "             columns=[\"Predicted Class \" + str(class_name) for class_name in [0,1]],\\\n",
    "             index = [\"Class \" + str(class_name) for class_name in [0,1]])\n",
    "    print('Confusion Matrix :')\n",
    "    print(confusion_df,'\\n')\n",
    "    print('Classifying Report :')\n",
    "    classifying_report = classification_report(test_target, predictions)\n",
    "    print(classifying_report)\n",
    "    print('Accuracy Score:',accuracy_score(test_target, predictions))\n",
    "    print('Score: ',clf_rf.score(test_features, test_target))\n",
    "    print('Fbeta Score:',fbeta_score(test_target, predictions, beta=0.5))\n",
    "    print('Recall: ',recall_score(test_target, predictions))\n",
    "    print('AUC: ',roc_auc_score(test_target, predictions))\n",
    "    ROC_Score (test_target, predictions)\n",
    "    print('---------------------------------------------------------------------------------')\n",
    "   "
   ]
  },
  {
   "cell_type": "code",
   "execution_count": 14,
   "metadata": {},
   "outputs": [
    {
     "name": "stdout",
     "output_type": "stream",
     "text": [
      "-  1  -\n",
      "\n"
     ]
    },
    {
     "name": "stderr",
     "output_type": "stream",
     "text": [
      "/Library/Frameworks/Python.framework/Versions/3.6/lib/python3.6/site-packages/sklearn/ensemble/forest.py:246: FutureWarning: The default value of n_estimators will change from 10 in version 0.20 to 100 in 0.22.\n",
      "  \"10 in version 0.20 to 100 in 0.22.\", FutureWarning)\n"
     ]
    },
    {
     "name": "stdout",
     "output_type": "stream",
     "text": [
      "RandomForestClassifier has trained . . . .\n",
      "Confusion Matrix :\n",
      "         Predicted Class 0  Predicted Class 1\n",
      "Class 0              17789               4193\n",
      "Class 1                242              21584 \n",
      "\n",
      "Classifying Report :\n",
      "              precision    recall  f1-score   support\n",
      "\n",
      "           0       0.99      0.81      0.89     21982\n",
      "           1       0.84      0.99      0.91     21826\n",
      "\n",
      "   micro avg       0.90      0.90      0.90     43808\n",
      "   macro avg       0.91      0.90      0.90     43808\n",
      "weighted avg       0.91      0.90      0.90     43808\n",
      "\n",
      "Accuracy Score: 0.8987627830533236\n",
      "Score:  0.8987627830533236\n",
      "Fbeta Score: 0.8638160948981062\n",
      "Recall:  0.9889123064235316\n",
      "AUC:  0.8990826658129849\n",
      "ROC Curve\n"
     ]
    },
    {
     "data": {
      "image/png": "[encoded data removed]",
      "text/plain": [
       "<Figure size 432x288 with 1 Axes>"
      ]
     },
     "metadata": {
      "needs_background": "light"
     },
     "output_type": "display_data"
    },
    {
     "name": "stdout",
     "output_type": "stream",
     "text": [
      "---------------------------------------------------------------------------------\n",
      "-  2  -\n",
      "\n",
      "GaussianNB has trained . . . .\n",
      "Confusion Matrix :\n",
      "         Predicted Class 0  Predicted Class 1\n",
      "Class 0                162              21820\n",
      "Class 1                 75              21751 \n",
      "\n",
      "Classifying Report :\n",
      "              precision    recall  f1-score   support\n",
      "\n",
      "           0       0.68      0.01      0.01     21982\n",
      "           1       0.50      1.00      0.67     21826\n",
      "\n",
      "   micro avg       0.50      0.50      0.50     43808\n",
      "   macro avg       0.59      0.50      0.34     43808\n",
      "weighted avg       0.59      0.50      0.34     43808\n",
      "\n",
      "Accuracy Score: 0.5002054419284149\n",
      "Score:  0.5002054419284149\n",
      "Fbeta Score: 0.5545612156442813\n",
      "Recall:  0.9965637313296069\n",
      "AUC:  0.5019666987100223\n",
      "ROC Curve\n"
     ]
    },
    {
     "data": {
      "image/png": "[encoded data removed]",
      "text/plain": [
       "<Figure size 432x288 with 1 Axes>"
      ]
     },
     "metadata": {
      "needs_background": "light"
     },
     "output_type": "display_data"
    },
    {
     "name": "stdout",
     "output_type": "stream",
     "text": [
      "---------------------------------------------------------------------------------\n",
      "-  3  -\n",
      "\n"
     ]
    },
    {
     "name": "stderr",
     "output_type": "stream",
     "text": [
      "/Library/Frameworks/Python.framework/Versions/3.6/lib/python3.6/site-packages/sklearn/linear_model/logistic.py:433: FutureWarning: Default solver will be changed to 'lbfgs' in 0.22. Specify a solver to silence this warning.\n",
      "  FutureWarning)\n"
     ]
    },
    {
     "name": "stdout",
     "output_type": "stream",
     "text": [
      "LogisticRegression has trained . . . .\n",
      "Confusion Matrix :\n",
      "         Predicted Class 0  Predicted Class 1\n",
      "Class 0                148              21834\n",
      "Class 1                 50              21776 \n",
      "\n",
      "Classifying Report :\n",
      "              precision    recall  f1-score   support\n",
      "\n",
      "           0       0.75      0.01      0.01     21982\n",
      "           1       0.50      1.00      0.67     21826\n",
      "\n",
      "   micro avg       0.50      0.50      0.50     43808\n",
      "   macro avg       0.62      0.50      0.34     43808\n",
      "weighted avg       0.62      0.50      0.34     43808\n",
      "\n",
      "Accuracy Score: 0.5004565376186998\n",
      "Score:  0.5004565376186998\n",
      "Fbeta Score: 0.5547573191485026\n",
      "Recall:  0.9977091542197379\n",
      "AUC:  0.5022209677931553\n",
      "ROC Curve\n"
     ]
    },
    {
     "data": {
      "image/png": "[encoded data removed]",
      "text/plain": [
       "<Figure size 432x288 with 1 Axes>"
      ]
     },
     "metadata": {
      "needs_background": "light"
     },
     "output_type": "display_data"
    },
    {
     "name": "stdout",
     "output_type": "stream",
     "text": [
      "---------------------------------------------------------------------------------\n",
      "-  4  -\n",
      "\n",
      "DecisionTreeClassifier has trained . . . .\n",
      "Confusion Matrix :\n",
      "         Predicted Class 0  Predicted Class 1\n",
      "Class 0              17694               4288\n",
      "Class 1                242              21584 \n",
      "\n",
      "Classifying Report :\n",
      "              precision    recall  f1-score   support\n",
      "\n",
      "           0       0.99      0.80      0.89     21982\n",
      "           1       0.83      0.99      0.91     21826\n",
      "\n",
      "   micro avg       0.90      0.90      0.90     43808\n",
      "   macro avg       0.91      0.90      0.90     43808\n",
      "weighted avg       0.91      0.90      0.90     43808\n",
      "\n",
      "Accuracy Score: 0.8965942293644996\n",
      "Score:  0.8965942293644996\n",
      "Fbeta Score: 0.8611966739550251\n",
      "Recall:  0.9889123064235316\n",
      "AUC:  0.896921806928443\n",
      "ROC Curve\n"
     ]
    },
    {
     "data": {
      "image/png": "[encoded data removed]",
      "text/plain": [
       "<Figure size 432x288 with 1 Axes>"
      ]
     },
     "metadata": {
      "needs_background": "light"
     },
     "output_type": "display_data"
    },
    {
     "name": "stdout",
     "output_type": "stream",
     "text": [
      "---------------------------------------------------------------------------------\n"
     ]
    }
   ],
   "source": [
    "from sklearn.ensemble import RandomForestClassifier\n",
    "from sklearn.naive_bayes import GaussianNB\n",
    "from sklearn.linear_model import LogisticRegression\n",
    "from sklearn.tree import DecisionTreeClassifier\n",
    "\n",
    "# Initialize the four models\n",
    "clf_A = RandomForestClassifier(random_state=42)\n",
    "clf_B = GaussianNB()\n",
    "clf_C = LogisticRegression(random_state=42)\n",
    "clf_D = DecisionTreeClassifier()\n",
    "\n",
    "# Collect results on the learners\n",
    "num = 1\n",
    "for clf in [clf_A, clf_B, clf_C, clf_D]:\n",
    "    print ('- ',num,' -\\n')\n",
    "    clf_name = clf.__class__.__name__\n",
    "    predictions(clf,training_features, test_features, training_target, test_target)\n",
    "    num =num+1"
   ]
  },
  {
   "cell_type": "code",
   "execution_count": null,
   "metadata": {},
   "outputs": [],
   "source": []
  }
 ],
 "metadata": {
  "kernelspec": {
   "display_name": "Python 3",
   "language": "python",
   "name": "python3"
  },
  "language_info": {
   "codemirror_mode": {
    "name": "ipython",
    "version": 3
   },
   "file_extension": ".py",
   "mimetype": "text/x-python",
   "name": "python",
   "nbconvert_exporter": "python",
   "pygments_lexer": "ipython3",
   "version": "3.6.3"
  }
 },
 "nbformat": 4,
 "nbformat_minor": 2
}
