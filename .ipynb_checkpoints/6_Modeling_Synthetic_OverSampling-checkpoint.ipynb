{
 "cells": [
  {
   "cell_type": "markdown",
   "metadata": {},
   "source": [
    "## Re-sampling the dataset"
   ]
  },
  {
   "cell_type": "markdown",
   "metadata": {},
   "source": [
    "Dealing with imbalanced datasets includes various strategies such as Synthetic Minority Over-sampling Technique (SMOTE is an oversampling method which creates “synthetic” example rather than oversampling by replacements. The minority class is over-sampled by taking each minority class sample and introducing synthetic examples along the line segments joining any/all of the k minority class nearest neighbors. Depending upon the amount of over-sampling required, neighbors from the k nearest neighbors are randomly chosen).\n",
    "\n",
    "##### Resources:\n",
    "\n",
    "https://en.wikipedia.org/wiki/Oversampling_and_undersampling_in_data_analysis\n",
    "\n",
    "https://www.datacamp.com/community/tutorials/diving-deep-imbalanced-data\n",
    "\n",
    "https://www.kaggle.com/rafjaa/resampling-strategies-for-imbalanced-datasets"
   ]
  },
  {
   "cell_type": "code",
   "execution_count": 1,
   "metadata": {},
   "outputs": [],
   "source": [
    "# Import libraries necessary for this part of the project\n",
    "\n",
    "import pandas as pd\n",
    "import numpy as np\n",
    "import matplotlib.pyplot as plt\n",
    "\n",
    "# Pretty display for notebooks\n",
    "%matplotlib inline"
   ]
  },
  {
   "cell_type": "code",
   "execution_count": 2,
   "metadata": {},
   "outputs": [],
   "source": [
    "# Load the Santander Customer Satisfacations data from a CSV file\n",
    "\n",
    "data = pd.read_csv('Data/processed_dataset.csv')"
   ]
  },
  {
   "cell_type": "code",
   "execution_count": 3,
   "metadata": {},
   "outputs": [
    {
     "name": "stdout",
     "output_type": "stream",
     "text": [
      "class_0 : 73012\n",
      "class_1 : 3008\n"
     ]
    }
   ],
   "source": [
    "# Class count\n",
    "count_class_0, count_class_1 = data.TARGET.value_counts()\n",
    "print ('class_0 : {}'.format(count_class_0))\n",
    "print ('class_1 : {}'.format(count_class_1))"
   ]
  },
  {
   "cell_type": "code",
   "execution_count": 4,
   "metadata": {},
   "outputs": [
    {
     "data": {
      "image/png": "[encoded data removed]",
      "text/plain": [
       "<Figure size 432x288 with 1 Axes>"
      ]
     },
     "metadata": {
      "needs_background": "light"
     },
     "output_type": "display_data"
    }
   ],
   "source": [
    "# Plot Satisfaction Status\n",
    "\n",
    "data.TARGET.value_counts().plot(kind='bar', title='Count (target)',rot=0)\n",
    "plt.title('Customers Satisfaction Status - Before SMOTE OverSampling')\n",
    "plt.xlabel('Satisfaction Status')\n",
    "plt.ylabel('Number of Records')\n",
    "plt.show();"
   ]
  },
  {
   "cell_type": "markdown",
   "metadata": {},
   "source": [
    "#### Split Data"
   ]
  },
  {
   "cell_type": "code",
   "execution_count": 5,
   "metadata": {},
   "outputs": [],
   "source": [
    "# Import train_test_split\n",
    "from sklearn.model_selection import train_test_split\n",
    "from imblearn.over_sampling import SMOTE\n",
    "\n",
    "# split data to features and Target\n",
    "features = data[['Dimension 1','Dimension 2','Dimension 3', 'Dimension 4','Dimension 5',\\\n",
    "            'Dimension 6','Dimension 7', 'Dimension 8','Dimension 9', 'Dimension 10',\\\n",
    "            'Dimension 11','Dimension 12']]\n",
    "\n",
    "satisfaction_status = data['TARGET']"
   ]
  },
  {
   "cell_type": "code",
   "execution_count": 6,
   "metadata": {},
   "outputs": [],
   "source": [
    "#Split the data into train and test sets\n",
    "training_features, test_features, training_target, test_target, = \\\n",
    "train_test_split(features,satisfaction_status,test_size = .30,random_state=12)\n",
    "\n",
    "# oversampling the training data.\n",
    "x_train, x_val, y_train, y_val =\\\n",
    "train_test_split(training_features, training_target,test_size = .30,random_state=12)\n",
    "\n",
    "sm = SMOTE(random_state=12, ratio = 1.0)\n",
    "x_train_res, y_train_res = sm.fit_sample(x_train, y_train)"
   ]
  },
  {
   "cell_type": "code",
   "execution_count": 7,
   "metadata": {},
   "outputs": [
    {
     "name": "stdout",
     "output_type": "stream",
     "text": [
      "x_train_res: 71510\n",
      "y_train_res: 71510\n"
     ]
    }
   ],
   "source": [
    "print('x_train_res:',len(x_train_res)) \n",
    "print('y_train_res:',len(y_train_res))"
   ]
  },
  {
   "cell_type": "code",
   "execution_count": 8,
   "metadata": {},
   "outputs": [],
   "source": [
    "SMOTE_over = np.concatenate((x_train_res,y_train_res[:,None]),axis=1)\n",
    "pd_SMOTE_over = pd.DataFrame(data=SMOTE_over[1:,1:])"
   ]
  },
  {
   "cell_type": "code",
   "execution_count": 9,
   "metadata": {},
   "outputs": [
    {
     "data": {
      "image/png": "[encoded data removed]",
      "text/plain": [
       "<Figure size 432x288 with 1 Axes>"
      ]
     },
     "metadata": {
      "needs_background": "light"
     },
     "output_type": "display_data"
    }
   ],
   "source": [
    "# Plot Satisfaction Status\n",
    "\n",
    "pd_SMOTE_over[11].value_counts().plot(kind='bar', title='Count (target)',rot=0)\n",
    "plt.title('Customers Satisfaction Status - After SMOTE OverSampling')\n",
    "plt.xlabel('Satisfaction Status')\n",
    "plt.ylabel('Number of Records')\n",
    "plt.show();"
   ]
  },
  {
   "cell_type": "code",
   "execution_count": 10,
   "metadata": {},
   "outputs": [],
   "source": [
    "# Method to plot the ROC curve\n",
    "def ROC_Score (y_test , predictions_test):\n",
    "    from sklearn.metrics import roc_curve\n",
    "    \n",
    "    print('ROC Curve')\n",
    "    # calculate roc curve\n",
    "    fpr, tpr, thresholds = roc_curve(y_test, predictions_test)\n",
    "\n",
    "    # plot no skill\n",
    "    plt.plot([0, 1], [0, 1], linestyle='--')\n",
    "\n",
    "    # plot the roc curve for the model\n",
    "    plt.plot(fpr, tpr, marker='.')\n",
    "    \n",
    "    # show the plot\n",
    "    plt.show()"
   ]
  },
  {
   "cell_type": "code",
   "execution_count": 11,
   "metadata": {},
   "outputs": [],
   "source": [
    "from sklearn.metrics import recall_score\n",
    "from sklearn.metrics import roc_auc_score\n",
    "from sklearn.metrics import confusion_matrix\n",
    "from sklearn.metrics import accuracy_score\n",
    "from sklearn.metrics import fbeta_score\n",
    "from sklearn.metrics import classification_report\n",
    "\n",
    "# Method to train & predict & evaluate the performance\n",
    "def predictions (learner,training_features, test_features, training_target, test_target):\n",
    "    clf_rf = learner.fit(training_features, training_target)\n",
    "    predictions = clf_rf.predict(test_features)\n",
    "    \n",
    "    print(\"{} has trained . . . .\".format(learner.__class__.__name__))\n",
    "        #confusion matrix    \n",
    "    confusion_df = pd.DataFrame(confusion_matrix(test_target, predictions),\\\n",
    "             columns=[\"Predicted Class \" + str(class_name) for class_name in [0,1]],\\\n",
    "             index = [\"Class \" + str(class_name) for class_name in [0,1]])\n",
    "    print('Confusion Matrix :')\n",
    "    print(confusion_df,'\\n')\n",
    "    print('Classifying Report :')\n",
    "    classifying_report = classification_report(test_target, predictions)\n",
    "    print(classifying_report)\n",
    "    print('Accuracy Score:',accuracy_score(test_target, predictions))\n",
    "    print('Score: ',clf_rf.score(test_features, test_target))\n",
    "    print('Fbeta Score:',fbeta_score(test_target, predictions, beta=0.5))\n",
    "    print('Recall: ',recall_score(test_target, predictions))\n",
    "    print('AUC: ',roc_auc_score(test_target, predictions))\n",
    "    ROC_Score (test_target, predictions)\n",
    "    print('---------------------------------------------------------------------------------')\n",
    "   "
   ]
  },
  {
   "cell_type": "code",
   "execution_count": 13,
   "metadata": {},
   "outputs": [
    {
     "name": "stdout",
     "output_type": "stream",
     "text": [
      "-  1  -\n",
      "\n"
     ]
    },
    {
     "name": "stderr",
     "output_type": "stream",
     "text": [
      "/Library/Frameworks/Python.framework/Versions/3.6/lib/python3.6/site-packages/sklearn/ensemble/forest.py:246: FutureWarning: The default value of n_estimators will change from 10 in version 0.20 to 100 in 0.22.\n",
      "  \"10 in version 0.20 to 100 in 0.22.\", FutureWarning)\n"
     ]
    },
    {
     "name": "stdout",
     "output_type": "stream",
     "text": [
      "RandomForestClassifier has trained . . . .\n",
      "Confusion Matrix :\n",
      "         Predicted Class 0  Predicted Class 1\n",
      "Class 0              21645                293\n",
      "Class 1                854                 14 \n",
      "\n",
      "Classifying Report :\n",
      "              precision    recall  f1-score   support\n",
      "\n",
      "           0       0.96      0.99      0.97     21938\n",
      "           1       0.05      0.02      0.02       868\n",
      "\n",
      "   micro avg       0.95      0.95      0.95     22806\n",
      "   macro avg       0.50      0.50      0.50     22806\n",
      "weighted avg       0.93      0.95      0.94     22806\n",
      "\n",
      "Accuracy Score: 0.9497062176620188\n",
      "Score:  0.9497062176620188\n",
      "Fbeta Score: 0.033396946564885496\n",
      "Recall:  0.016129032258064516\n",
      "AUC:  0.5013866056540573\n",
      "ROC Curve\n"
     ]
    },
    {
     "data": {
      "image/png": "[encoded data removed]",
      "text/plain": [
       "<Figure size 432x288 with 1 Axes>"
      ]
     },
     "metadata": {
      "needs_background": "light"
     },
     "output_type": "display_data"
    },
    {
     "name": "stdout",
     "output_type": "stream",
     "text": [
      "---------------------------------------------------------------------------------\n",
      "-  2  -\n",
      "\n",
      "GaussianNB has trained . . . .\n",
      "Confusion Matrix :\n",
      "         Predicted Class 0  Predicted Class 1\n",
      "Class 0                149              21789\n",
      "Class 1                  2                866 \n",
      "\n",
      "Classifying Report :\n",
      "              precision    recall  f1-score   support\n",
      "\n",
      "           0       0.99      0.01      0.01     21938\n",
      "           1       0.04      1.00      0.07       868\n",
      "\n",
      "   micro avg       0.04      0.04      0.04     22806\n",
      "   macro avg       0.51      0.50      0.04     22806\n",
      "weighted avg       0.95      0.04      0.02     22806\n",
      "\n",
      "Accuracy Score: 0.044505831798649476\n",
      "Score:  0.044505831798649476\n",
      "Fbeta Score: 0.04732861140258831\n",
      "Recall:  0.9976958525345622\n",
      "AUC:  0.5022438602630874\n",
      "ROC Curve\n"
     ]
    },
    {
     "data": {
      "image/png": "[encoded data removed]",
      "text/plain": [
       "<Figure size 432x288 with 1 Axes>"
      ]
     },
     "metadata": {
      "needs_background": "light"
     },
     "output_type": "display_data"
    },
    {
     "name": "stdout",
     "output_type": "stream",
     "text": [
      "---------------------------------------------------------------------------------\n",
      "-  3  -\n",
      "\n"
     ]
    },
    {
     "name": "stderr",
     "output_type": "stream",
     "text": [
      "/Library/Frameworks/Python.framework/Versions/3.6/lib/python3.6/site-packages/sklearn/linear_model/logistic.py:433: FutureWarning: Default solver will be changed to 'lbfgs' in 0.22. Specify a solver to silence this warning.\n",
      "  FutureWarning)\n"
     ]
    },
    {
     "name": "stdout",
     "output_type": "stream",
     "text": [
      "LogisticRegression has trained . . . .\n",
      "Confusion Matrix :\n",
      "         Predicted Class 0  Predicted Class 1\n",
      "Class 0                143              21795\n",
      "Class 1                  2                866 \n",
      "\n",
      "Classifying Report :\n",
      "              precision    recall  f1-score   support\n",
      "\n",
      "           0       0.99      0.01      0.01     21938\n",
      "           1       0.04      1.00      0.07       868\n",
      "\n",
      "   micro avg       0.04      0.04      0.04     22806\n",
      "   macro avg       0.51      0.50      0.04     22806\n",
      "weighted avg       0.95      0.04      0.02     22806\n",
      "\n",
      "Accuracy Score: 0.04424274313777076\n",
      "Score:  0.04424274313777076\n",
      "Fbeta Score: 0.0473161989684413\n",
      "Recall:  0.9976958525345622\n",
      "AUC:  0.5021071112431221\n",
      "ROC Curve\n"
     ]
    },
    {
     "data": {
      "image/png": "[encoded data removed]",
      "text/plain": [
       "<Figure size 432x288 with 1 Axes>"
      ]
     },
     "metadata": {
      "needs_background": "light"
     },
     "output_type": "display_data"
    },
    {
     "name": "stdout",
     "output_type": "stream",
     "text": [
      "---------------------------------------------------------------------------------\n",
      "-  4  -\n",
      "\n",
      "DecisionTreeClassifier has trained . . . .\n",
      "Confusion Matrix :\n",
      "         Predicted Class 0  Predicted Class 1\n",
      "Class 0              21482                456\n",
      "Class 1                854                 14 \n",
      "\n",
      "Classifying Report :\n",
      "              precision    recall  f1-score   support\n",
      "\n",
      "           0       0.96      0.98      0.97     21938\n",
      "           1       0.03      0.02      0.02       868\n",
      "\n",
      "   micro avg       0.94      0.94      0.94     22806\n",
      "   macro avg       0.50      0.50      0.50     22806\n",
      "weighted avg       0.93      0.94      0.93     22806\n",
      "\n",
      "Accuracy Score: 0.942558975708147\n",
      "Score:  0.942558975708147\n",
      "Fbeta Score: 0.025473071324599708\n",
      "Recall:  0.016129032258064516\n",
      "AUC:  0.4976715906116651\n",
      "ROC Curve\n"
     ]
    },
    {
     "data": {
      "image/png": "[encoded data removed]",
      "text/plain": [
       "<Figure size 432x288 with 1 Axes>"
      ]
     },
     "metadata": {
      "needs_background": "light"
     },
     "output_type": "display_data"
    },
    {
     "name": "stdout",
     "output_type": "stream",
     "text": [
      "---------------------------------------------------------------------------------\n"
     ]
    }
   ],
   "source": [
    "from sklearn.ensemble import RandomForestClassifier\n",
    "from sklearn.naive_bayes import GaussianNB\n",
    "from sklearn.linear_model import LogisticRegression\n",
    "from sklearn.tree import DecisionTreeClassifier\n",
    "\n",
    "# Initialize the four models\n",
    "clf_A = RandomForestClassifier(random_state=42)\n",
    "clf_B = GaussianNB()\n",
    "clf_C = LogisticRegression(random_state=42)\n",
    "clf_D = DecisionTreeClassifier()\n",
    "\n",
    "# Collect results on the learners\n",
    "num = 1\n",
    "for clf in [clf_A, clf_B, clf_C, clf_D]:\n",
    "    print ('- ',num,' -\\n')\n",
    "    clf_name = clf.__class__.__name__\n",
    "    predictions(clf,training_features, test_features, training_target, test_target)\n",
    "    num =num+1"
   ]
  },
  {
   "cell_type": "code",
   "execution_count": null,
   "metadata": {},
   "outputs": [],
   "source": []
  }
 ],
 "metadata": {
  "kernelspec": {
   "display_name": "Python 3",
   "language": "python",
   "name": "python3"
  },
  "language_info": {
   "codemirror_mode": {
    "name": "ipython",
    "version": 3
   },
   "file_extension": ".py",
   "mimetype": "text/x-python",
   "name": "python",
   "nbconvert_exporter": "python",
   "pygments_lexer": "ipython3",
   "version": "3.6.3"
  }
 },
 "nbformat": 4,
 "nbformat_minor": 2
}
