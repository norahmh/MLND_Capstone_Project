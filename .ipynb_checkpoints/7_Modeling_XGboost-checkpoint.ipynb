{
 "cells": [
  {
   "cell_type": "code",
   "execution_count": 1,
   "metadata": {},
   "outputs": [],
   "source": [
    "# Import libraries necessary for this part of the project\n",
    "\n",
    "import pandas as pd\n",
    "import numpy as np\n",
    "import matplotlib.pyplot as plt\n",
    "import seaborn as sns\n",
    "from time import time\n",
    "\n",
    "# Allows the use of display() for DataFrames\n",
    "from IPython.display import display \n",
    "\n",
    "# Import supplementary visualizations code visuals_2.py\n",
    "import visuals_2 as vs2\n",
    "\n",
    "# Pretty display for notebooks\n",
    "%matplotlib inline"
   ]
  },
  {
   "cell_type": "code",
   "execution_count": 2,
   "metadata": {},
   "outputs": [],
   "source": [
    "# Load the Santander Customer Satisfacations data from a CSV file\n",
    "\n",
    "data = pd.read_csv('Data/processed_dataset.csv')"
   ]
  },
  {
   "cell_type": "markdown",
   "metadata": {},
   "source": [
    "### Shuffle and Split Data"
   ]
  },
  {
   "cell_type": "markdown",
   "metadata": {},
   "source": [
    "Splitting the data into train and test sets, where 80% of the data will be used for training and 20% data for testing."
   ]
  },
  {
   "cell_type": "code",
   "execution_count": 3,
   "metadata": {},
   "outputs": [
    {
     "name": "stdout",
     "output_type": "stream",
     "text": [
      "Training set has 53214 samples.\n",
      "Testing set has 22806 samples.\n"
     ]
    }
   ],
   "source": [
    "# Import train_test_split\n",
    "\n",
    "from sklearn.model_selection import train_test_split\n",
    "\n",
    "features = data[['Dimension 1','Dimension 2','Dimension 3', 'Dimension 4','Dimension 5',\\\n",
    "            'Dimension 6','Dimension 7', 'Dimension 8','Dimension 9', 'Dimension 10',\\\n",
    "            'Dimension 11','Dimension 12']]\n",
    "\n",
    "satisfaction_status = data['TARGET']\n",
    "\n",
    "\n",
    "# Split the 'calculated features' and 'TARGET' data into training and testing sets\n",
    "X_train, X_test, y_train, y_test = train_test_split(features, \n",
    "                                                    satisfaction_status, \n",
    "                                                    test_size = 0.3, \n",
    "                                                    random_state = 42)\n",
    "\n",
    "# Show the results of the split\n",
    "print(\"Training set has {} samples.\".format(X_train.shape[0]))\n",
    "print(\"Testing set has {} samples.\".format(X_test.shape[0]))"
   ]
  },
  {
   "cell_type": "code",
   "execution_count": 4,
   "metadata": {},
   "outputs": [],
   "source": [
    "def get_params():\n",
    "    params = {}\n",
    "    params[\"objective\"] = \"binary:logistic\"\n",
    "    params[\"eta\"] = 0.5\n",
    "    params[\"min_child_weight\"] = 1\n",
    "    params[\"eval_meric\"] = 'auc'\n",
    "    params[\"subsample\"] = 0.9\n",
    "    params[\"colsample_bytree\"] = 0.9\n",
    "    params[\"silent\"] = 1\n",
    "    params[\"max_depth\"] = 10\n",
    "    plst = list(params.items())\n",
    "    return plst"
   ]
  },
  {
   "cell_type": "code",
   "execution_count": 7,
   "metadata": {},
   "outputs": [],
   "source": [
    "import xgboost as xgb\n",
    "\n",
    "#X_train, X_test, y_train, y_test\n",
    "dtrain = xgb.DMatrix(X_train, label=y_train)\n",
    "dtest = xgb.DMatrix(X_test, label=y_test)\n",
    "\n",
    "param = {\n",
    "    'max_depth': 3,  # the maximum depth of each tree\n",
    "    'eta': 0.3,  # the training step for each iteration\n",
    "    'silent': 1,  # logging mode - quiet\n",
    "    'objective': 'multi:softprob',  # error evaluation for multiclass training\n",
    "    'num_class': 3}  # the number of classes that exist in this datset\n",
    "\n",
    "num_round = 20  # the number of training iterations\n",
    "\n",
    "bst = xgb.train(param, dtrain, num_round)\n",
    "\n",
    "preds = bst.predict(dtest)\n",
    "\n",
    "best_preds = np.asarray([np.argmax(line) for line in preds])\n"
   ]
  },
  {
   "cell_type": "code",
   "execution_count": 9,
   "metadata": {},
   "outputs": [],
   "source": [
    "def ROC_Score (y_test , predictions_test):\n",
    "    from sklearn.metrics import roc_curve\n",
    "\n",
    "    # calculate roc curve\n",
    "    fpr, tpr, thresholds = roc_curve(y_test, predictions_test)\n",
    "\n",
    "    # plot no skill\n",
    "    plt.plot([0, 1], [0, 1], linestyle='--')\n",
    "\n",
    "    # plot the roc curve for the model\n",
    "    plt.plot(fpr, tpr, marker='.')\n",
    "    \n",
    "    # show the plot\n",
    "    plt.show()"
   ]
  },
  {
   "cell_type": "code",
   "execution_count": 11,
   "metadata": {},
   "outputs": [
    {
     "name": "stdout",
     "output_type": "stream",
     "text": [
      "Accuracy:  0.9598789792159957\n",
      "Precision Score:  0.47993948960799787\n",
      "---------------------------------------------/n\n",
      "AUC 0.5\n",
      "---------------------------------------------/n\n",
      "         Predicted Class 0  Predicted Class 1\n",
      "Class 0              21891                  0\n",
      "Class 1                915                  0\n",
      "---------------------------------------------/n\n",
      "              precision    recall  f1-score   support\n",
      "\n",
      "           0       0.96      1.00      0.98     21891\n",
      "           1       0.00      0.00      0.00       915\n",
      "\n",
      "   micro avg       0.96      0.96      0.96     22806\n",
      "   macro avg       0.48      0.50      0.49     22806\n",
      "weighted avg       0.92      0.96      0.94     22806\n",
      "\n",
      "---------------------------------------------/n\n"
     ]
    },
    {
     "name": "stderr",
     "output_type": "stream",
     "text": [
      "/Library/Frameworks/Python.framework/Versions/3.6/lib/python3.6/site-packages/sklearn/metrics/classification.py:1143: UndefinedMetricWarning: Precision is ill-defined and being set to 0.0 in labels with no predicted samples.\n",
      "  'precision', 'predicted', average, warn_for)\n",
      "/Library/Frameworks/Python.framework/Versions/3.6/lib/python3.6/site-packages/sklearn/metrics/classification.py:1143: UndefinedMetricWarning: Precision and F-score are ill-defined and being set to 0.0 in labels with no predicted samples.\n",
      "  'precision', 'predicted', average, warn_for)\n"
     ]
    },
    {
     "data": {
      "image/png": "[encoded data removed]",
      "text/plain": [
       "<Figure size 432x288 with 1 Axes>"
      ]
     },
     "metadata": {
      "needs_background": "light"
     },
     "output_type": "display_data"
    }
   ],
   "source": [
    "from sklearn.metrics import fbeta_score\n",
    "from sklearn.metrics import accuracy_score\n",
    "from sklearn.metrics import roc_auc_score\n",
    "from sklearn.metrics import classification_report\n",
    "from sklearn.metrics import confusion_matrix\n",
    "from sklearn.metrics import precision_score\n",
    "\n",
    "print('Accuracy: ', accuracy_score(y_test, best_preds))\n",
    "print('Precision Score: ', precision_score(y_test, best_preds, average='macro'))\n",
    "print('---------------------------------------------/n')\n",
    "\n",
    "# calculate AUC\n",
    "print('AUC',roc_auc_score(y_test, best_preds))\n",
    "    \n",
    "print('---------------------------------------------/n')\n",
    "\n",
    "#confusion matrix    \n",
    "confusion_df = pd.DataFrame(confusion_matrix(y_test, best_preds),\n",
    "             columns=[\"Predicted Class \" + str(class_name) for class_name in [0,1]],\n",
    "             index = [\"Class \" + str(class_name) for class_name in [0,1]])\n",
    "print(confusion_df)    \n",
    "\n",
    "print('---------------------------------------------/n')\n",
    "\n",
    "classifying_report = classification_report(y_test, best_preds)\n",
    "print(classifying_report)\n",
    "print('---------------------------------------------/n')\n",
    "ROC_Score(y_test, best_preds)"
   ]
  },
  {
   "cell_type": "code",
   "execution_count": null,
   "metadata": {},
   "outputs": [],
   "source": []
  }
 ],
 "metadata": {
  "kernelspec": {
   "display_name": "Python 3",
   "language": "python",
   "name": "python3"
  },
  "language_info": {
   "codemirror_mode": {
    "name": "ipython",
    "version": 3
   },
   "file_extension": ".py",
   "mimetype": "text/x-python",
   "name": "python",
   "nbconvert_exporter": "python",
   "pygments_lexer": "ipython3",
   "version": "3.6.3"
  }
 },
 "nbformat": 4,
 "nbformat_minor": 2
}
