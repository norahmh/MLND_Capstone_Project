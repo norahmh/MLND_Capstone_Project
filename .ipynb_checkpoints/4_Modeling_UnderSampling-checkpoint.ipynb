{
 "cells": [
  {
   "cell_type": "markdown",
   "metadata": {},
   "source": [
    "## Re-sampling the dataset"
   ]
  },
  {
   "cell_type": "markdown",
   "metadata": {},
   "source": [
    "Dealing with imbalanced datasets includes various strategies such as Random over-sampling (randomly increase the instances corresponding to the minority class by replicating them up to a constant degree).\n",
    "\n",
    "##### Resources:\n",
    "\n",
    "https://en.wikipedia.org/wiki/Oversampling_and_undersampling_in_data_analysis\n",
    "\n",
    "https://www.datacamp.com/community/tutorials/diving-deep-imbalanced-data\n",
    "\n",
    "https://www.kaggle.com/rafjaa/resampling-strategies-for-imbalanced-datasets"
   ]
  },
  {
   "cell_type": "code",
   "execution_count": 1,
   "metadata": {},
   "outputs": [],
   "source": [
    "# Import libraries necessary for this part of the project\n",
    "\n",
    "import pandas as pd\n",
    "import numpy as np\n",
    "import matplotlib.pyplot as plt\n",
    "\n",
    "# Pretty display for notebooks\n",
    "%matplotlib inline"
   ]
  },
  {
   "cell_type": "code",
   "execution_count": 2,
   "metadata": {},
   "outputs": [],
   "source": [
    "# Load the Santander Customer Satisfacations data from a CSV file\n",
    "\n",
    "data = pd.read_csv('Data/processed_dataset.csv')"
   ]
  },
  {
   "cell_type": "code",
   "execution_count": 3,
   "metadata": {},
   "outputs": [
    {
     "name": "stdout",
     "output_type": "stream",
     "text": [
      "class_0 : 73012\n",
      "class_1 : 3008\n"
     ]
    }
   ],
   "source": [
    "# Class count\n",
    "count_class_0, count_class_1 = data.TARGET.value_counts()\n",
    "print ('class_0 : {}'.format(count_class_0))\n",
    "print ('class_1 : {}'.format(count_class_1))"
   ]
  },
  {
   "cell_type": "code",
   "execution_count": 14,
   "metadata": {},
   "outputs": [
    {
     "data": {
      "image/png": "[encoded data removed]",
      "text/plain": [
       "<Figure size 432x288 with 1 Axes>"
      ]
     },
     "metadata": {
      "needs_background": "light"
     },
     "output_type": "display_data"
    }
   ],
   "source": [
    "# Plot Satisfaction Status\n",
    "\n",
    "data.TARGET.value_counts().plot(kind='bar', title='Count (target)',rot=0)\n",
    "plt.title('Customers Satisfaction Status - Before UnderSampling')\n",
    "plt.xlabel('Satisfaction Status')\n",
    "plt.ylabel('Number of Records')\n",
    "plt.show();"
   ]
  },
  {
   "cell_type": "markdown",
   "metadata": {},
   "source": [
    "#### Random over-sampling"
   ]
  },
  {
   "cell_type": "code",
   "execution_count": 5,
   "metadata": {},
   "outputs": [
    {
     "name": "stdout",
     "output_type": "stream",
     "text": [
      "Random over-sampling:\n",
      "1    3008\n",
      "0    3008\n",
      "Name: TARGET, dtype: int64\n"
     ]
    }
   ],
   "source": [
    "# Divide by class\n",
    "class_0 = data[data['TARGET'] == 0]\n",
    "class_1 = data[data['TARGET'] == 1]\n",
    "\n",
    "class_0_under = class_0.sample(count_class_1, replace=True)\n",
    "test_under = pd.concat([class_1, class_0_under], axis=0)\n",
    "\n",
    "print('Random over-sampling:')\n",
    "print(test_under.TARGET.value_counts())\n"
   ]
  },
  {
   "cell_type": "code",
   "execution_count": 15,
   "metadata": {},
   "outputs": [
    {
     "data": {
      "image/png": "[encoded data removed]",
      "text/plain": [
       "<Figure size 432x288 with 1 Axes>"
      ]
     },
     "metadata": {
      "needs_background": "light"
     },
     "output_type": "display_data"
    }
   ],
   "source": [
    "# Plot Satisfaction Status\n",
    "\n",
    "test_under.TARGET.value_counts().plot(kind='bar', title='Count (target)',rot=0)\n",
    "plt.title('Customers Satisfaction Status - After UnderSampling')\n",
    "plt.xlabel('Satisfaction Status')\n",
    "plt.ylabel('Number of Records')\n",
    "plt.show();"
   ]
  },
  {
   "cell_type": "markdown",
   "metadata": {},
   "source": [
    "#### Split Data"
   ]
  },
  {
   "cell_type": "code",
   "execution_count": 7,
   "metadata": {},
   "outputs": [],
   "source": [
    "# Import train_test_split\n",
    "from sklearn.model_selection import train_test_split\n",
    "from imblearn.over_sampling import SMOTE\n",
    "\n",
    "# split data to features and Target\n",
    "features = test_over[['Dimension 1','Dimension 2','Dimension 3', 'Dimension 4','Dimension 5',\\\n",
    "            'Dimension 6','Dimension 7', 'Dimension 8','Dimension 9', 'Dimension 10',\\\n",
    "            'Dimension 11','Dimension 12']]\n",
    "\n",
    "satisfaction_status = test_under['TARGET']"
   ]
  },
  {
   "cell_type": "code",
   "execution_count": 8,
   "metadata": {},
   "outputs": [],
   "source": [
    "#Split the data into train and test sets\n",
    "training_features, test_features, training_target, test_target, = \\\n",
    "train_test_split(features,satisfaction_status,test_size = .30,random_state=12)"
   ]
  },
  {
   "cell_type": "code",
   "execution_count": 9,
   "metadata": {},
   "outputs": [
    {
     "data": {
      "text/plain": [
       "1    2147\n",
       "0    2064\n",
       "Name: TARGET, dtype: int64"
      ]
     },
     "execution_count": 9,
     "metadata": {},
     "output_type": "execute_result"
    }
   ],
   "source": [
    "training_target.value_counts()"
   ]
  },
  {
   "cell_type": "code",
   "execution_count": 10,
   "metadata": {},
   "outputs": [
    {
     "data": {
      "text/plain": [
       "0    944\n",
       "1    861\n",
       "Name: TARGET, dtype: int64"
      ]
     },
     "execution_count": 10,
     "metadata": {},
     "output_type": "execute_result"
    }
   ],
   "source": [
    "test_target.value_counts()"
   ]
  },
  {
   "cell_type": "code",
   "execution_count": 11,
   "metadata": {},
   "outputs": [],
   "source": [
    "# Method to plot the ROC curve\n",
    "def ROC_Score (y_test , predictions_test):\n",
    "    from sklearn.metrics import roc_curve\n",
    "    \n",
    "    print('ROC Curve')\n",
    "    # calculate roc curve\n",
    "    fpr, tpr, thresholds = roc_curve(y_test, predictions_test)\n",
    "\n",
    "    # plot no skill\n",
    "    plt.plot([0, 1], [0, 1], linestyle='--')\n",
    "\n",
    "    # plot the roc curve for the model\n",
    "    plt.plot(fpr, tpr, marker='.')\n",
    "    \n",
    "    # show the plot\n",
    "    plt.show()"
   ]
  },
  {
   "cell_type": "code",
   "execution_count": 12,
   "metadata": {},
   "outputs": [],
   "source": [
    "from sklearn.metrics import recall_score\n",
    "from sklearn.metrics import roc_auc_score\n",
    "from sklearn.metrics import confusion_matrix\n",
    "from sklearn.metrics import accuracy_score\n",
    "from sklearn.metrics import fbeta_score\n",
    "from sklearn.metrics import classification_report\n",
    "\n",
    "# Method to train & predict & evaluate the performance\n",
    "def predictions (learner,training_features, test_features, training_target, test_target):\n",
    "    clf_rf = learner.fit(training_features, training_target)\n",
    "    predictions = clf_rf.predict(test_features)\n",
    "    \n",
    "    print(\"{} has trained . . . .\".format(learner.__class__.__name__))\n",
    "        #confusion matrix    \n",
    "    confusion_df = pd.DataFrame(confusion_matrix(test_target, predictions),\\\n",
    "             columns=[\"Predicted Class \" + str(class_name) for class_name in [0,1]],\\\n",
    "             index = [\"Class \" + str(class_name) for class_name in [0,1]])\n",
    "    print('Confusion Matrix :')\n",
    "    print(confusion_df,'\\n')\n",
    "    print('Classifying Report :')\n",
    "    classifying_report = classification_report(test_target, predictions)\n",
    "    print(classifying_report)\n",
    "    print('Accuracy Score:',accuracy_score(test_target, predictions))\n",
    "    print('Score: ',clf_rf.score(test_features, test_target))\n",
    "    print('Fbeta Score:',fbeta_score(test_target, predictions, beta=0.5))\n",
    "    print('Recall: ',recall_score(test_target, predictions))\n",
    "    print('AUC: ',roc_auc_score(test_target, predictions))\n",
    "    ROC_Score (test_target, predictions)\n",
    "    print('---------------------------------------------------------------------------------')\n",
    "   "
   ]
  },
  {
   "cell_type": "code",
   "execution_count": 13,
   "metadata": {},
   "outputs": [
    {
     "name": "stdout",
     "output_type": "stream",
     "text": [
      "-  1  -\n",
      "\n",
      "RandomForestClassifier has trained . . . .\n",
      "Confusion Matrix :\n",
      "         Predicted Class 0  Predicted Class 1\n",
      "Class 0                528                416\n",
      "Class 1                365                496 \n",
      "\n",
      "Classifying Report :\n",
      "              precision    recall  f1-score   support\n",
      "\n",
      "           0       0.59      0.56      0.57       944\n",
      "           1       0.54      0.58      0.56       861\n",
      "\n",
      "   micro avg       0.57      0.57      0.57      1805\n",
      "   macro avg       0.57      0.57      0.57      1805\n",
      "weighted avg       0.57      0.57      0.57      1805\n",
      "\n",
      "Accuracy Score: 0.5673130193905818\n",
      "Score:  0.5673130193905818\n",
      "Fbeta Score: 0.5500110889332446\n",
      "Recall:  0.5760743321718932\n",
      "AUC:  0.5676981830350992\n",
      "ROC Curve\n"
     ]
    },
    {
     "name": "stderr",
     "output_type": "stream",
     "text": [
      "/Library/Frameworks/Python.framework/Versions/3.6/lib/python3.6/site-packages/sklearn/ensemble/forest.py:246: FutureWarning: The default value of n_estimators will change from 10 in version 0.20 to 100 in 0.22.\n",
      "  \"10 in version 0.20 to 100 in 0.22.\", FutureWarning)\n"
     ]
    },
    {
     "data": {
      "image/png": "[encoded data removed]",
      "text/plain": [
       "<Figure size 432x288 with 1 Axes>"
      ]
     },
     "metadata": {
      "needs_background": "light"
     },
     "output_type": "display_data"
    },
    {
     "name": "stdout",
     "output_type": "stream",
     "text": [
      "---------------------------------------------------------------------------------\n",
      "-  2  -\n",
      "\n",
      "GaussianNB has trained . . . .\n",
      "Confusion Matrix :\n",
      "         Predicted Class 0  Predicted Class 1\n",
      "Class 0                936                  8\n",
      "Class 1                860                  1 \n",
      "\n",
      "Classifying Report :\n",
      "              precision    recall  f1-score   support\n",
      "\n",
      "           0       0.52      0.99      0.68       944\n",
      "           1       0.11      0.00      0.00       861\n",
      "\n",
      "   micro avg       0.52      0.52      0.52      1805\n",
      "   macro avg       0.32      0.50      0.34      1805\n",
      "weighted avg       0.33      0.52      0.36      1805\n",
      "\n",
      "Accuracy Score: 0.5191135734072022\n",
      "Score:  0.5191135734072022\n",
      "Fbeta Score: 0.005574136008918618\n",
      "Recall:  0.0011614401858304297\n",
      "AUC:  0.496343431957322\n",
      "ROC Curve\n"
     ]
    },
    {
     "data": {
      "image/png": "[encoded data removed]",
      "text/plain": [
       "<Figure size 432x288 with 1 Axes>"
      ]
     },
     "metadata": {
      "needs_background": "light"
     },
     "output_type": "display_data"
    },
    {
     "name": "stdout",
     "output_type": "stream",
     "text": [
      "---------------------------------------------------------------------------------\n",
      "-  3  -\n",
      "\n",
      "LogisticRegression has trained . . . .\n",
      "Confusion Matrix :\n",
      "         Predicted Class 0  Predicted Class 1\n",
      "Class 0                  0                944\n",
      "Class 1                  1                860 \n",
      "\n",
      "Classifying Report :\n",
      "              precision    recall  f1-score   support\n",
      "\n",
      "           0       0.00      0.00      0.00       944\n",
      "           1       0.48      1.00      0.65       861\n",
      "\n",
      "   micro avg       0.48      0.48      0.48      1805\n",
      "   macro avg       0.24      0.50      0.32      1805\n",
      "weighted avg       0.23      0.48      0.31      1805\n",
      "\n",
      "Accuracy Score: 0.47645429362880887\n",
      "Score:  0.47645429362880887\n",
      "Fbeta Score: 0.5323758821344559\n",
      "Recall:  0.9988385598141696\n",
      "AUC:  0.4994192799070848\n",
      "ROC Curve\n"
     ]
    },
    {
     "name": "stderr",
     "output_type": "stream",
     "text": [
      "/Library/Frameworks/Python.framework/Versions/3.6/lib/python3.6/site-packages/sklearn/linear_model/logistic.py:433: FutureWarning: Default solver will be changed to 'lbfgs' in 0.22. Specify a solver to silence this warning.\n",
      "  FutureWarning)\n"
     ]
    },
    {
     "data": {
      "image/png": "[encoded data removed]",
      "text/plain": [
       "<Figure size 432x288 with 1 Axes>"
      ]
     },
     "metadata": {
      "needs_background": "light"
     },
     "output_type": "display_data"
    },
    {
     "name": "stdout",
     "output_type": "stream",
     "text": [
      "---------------------------------------------------------------------------------\n",
      "-  4  -\n",
      "\n",
      "DecisionTreeClassifier has trained . . . .\n",
      "Confusion Matrix :\n",
      "         Predicted Class 0  Predicted Class 1\n",
      "Class 0                484                460\n",
      "Class 1                356                505 \n",
      "\n",
      "Classifying Report :\n",
      "              precision    recall  f1-score   support\n",
      "\n",
      "           0       0.58      0.51      0.54       944\n",
      "           1       0.52      0.59      0.55       861\n",
      "\n",
      "   micro avg       0.55      0.55      0.55      1805\n",
      "   macro avg       0.55      0.55      0.55      1805\n",
      "weighted avg       0.55      0.55      0.55      1805\n",
      "\n",
      "Accuracy Score: 0.5479224376731302\n",
      "Score:  0.5479224376731302\n",
      "Fbeta Score: 0.5348443126456259\n",
      "Recall:  0.586527293844367\n",
      "AUC:  0.5496195791255732\n",
      "ROC Curve\n"
     ]
    },
    {
     "data": {
      "image/png": "[encoded data removed]",
      "text/plain": [
       "<Figure size 432x288 with 1 Axes>"
      ]
     },
     "metadata": {
      "needs_background": "light"
     },
     "output_type": "display_data"
    },
    {
     "name": "stdout",
     "output_type": "stream",
     "text": [
      "---------------------------------------------------------------------------------\n"
     ]
    }
   ],
   "source": [
    "from sklearn.ensemble import RandomForestClassifier\n",
    "from sklearn.naive_bayes import GaussianNB\n",
    "from sklearn.linear_model import LogisticRegression\n",
    "from sklearn.tree import DecisionTreeClassifier\n",
    "\n",
    "# Initialize the four models\n",
    "clf_A = RandomForestClassifier(random_state=42)\n",
    "clf_B = GaussianNB()\n",
    "clf_C = LogisticRegression(random_state=42)\n",
    "clf_D = DecisionTreeClassifier()\n",
    "\n",
    "# Collect results on the learners\n",
    "num = 1\n",
    "for clf in [clf_A, clf_B, clf_C, clf_D]:\n",
    "    print ('- ',num,' -\\n')\n",
    "    clf_name = clf.__class__.__name__\n",
    "    predictions(clf,training_features, test_features, training_target, test_target)\n",
    "    num =num+1"
   ]
  },
  {
   "cell_type": "code",
   "execution_count": null,
   "metadata": {},
   "outputs": [],
   "source": []
  }
 ],
 "metadata": {
  "kernelspec": {
   "display_name": "Python 3",
   "language": "python",
   "name": "python3"
  },
  "language_info": {
   "codemirror_mode": {
    "name": "ipython",
    "version": 3
   },
   "file_extension": ".py",
   "mimetype": "text/x-python",
   "name": "python",
   "nbconvert_exporter": "python",
   "pygments_lexer": "ipython3",
   "version": "3.6.3"
  }
 },
 "nbformat": 4,
 "nbformat_minor": 2
}
